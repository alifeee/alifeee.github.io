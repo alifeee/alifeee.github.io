{
 "cells": [
  {
   "attachments": {},
   "cell_type": "markdown",
   "metadata": {},
   "source": [
    "# Trigram and Quadgram statistics\n",
    "\n",
    "From [Practical Cryptography](http://practicalcryptography.com/cryptanalysis/text-characterisation/quadgrams/)"
   ]
  },
  {
   "cell_type": "code",
   "execution_count": 32,
   "metadata": {},
   "outputs": [],
   "source": [
    "import json\n",
    "import matplotlib.pyplot as plt"
   ]
  },
  {
   "attachments": {},
   "cell_type": "markdown",
   "metadata": {},
   "source": [
    "## Trigrams"
   ]
  },
  {
   "cell_type": "code",
   "execution_count": 33,
   "metadata": {},
   "outputs": [
    {
     "name": "stdout",
     "output_type": "stream",
     "text": [
      "THE 77534223\n",
      "AND 30997177\n",
      "ING 30679488\n",
      "ENT 17902107\n",
      "ION 17769261\n",
      "HER 15277018\n",
      "FOR 14686159\n",
      "THA 14222073\n",
      "NTH 14115952\n",
      "INT 13656197\n",
      "ERE 13287155\n",
      "...\n"
     ]
    }
   ],
   "source": [
    "with open('trigrams.json') as f:\n",
    "    trigrams = json.load(f)\n",
    "# print first 10 trigrams\n",
    "for i, (k, v) in enumerate(trigrams.items()):\n",
    "    if i > 10:\n",
    "        break\n",
    "    print(k, v)\n",
    "print('...')"
   ]
  },
  {
   "cell_type": "code",
   "execution_count": 34,
   "metadata": {},
   "outputs": [
    {
     "name": "stdout",
     "output_type": "stream",
     "text": [
      "total: 8,498,255,821\n"
     ]
    }
   ],
   "source": [
    "# total\n",
    "total = sum(trigrams.values())\n",
    "print(f'total: {total:,}')"
   ]
  },
  {
   "cell_type": "code",
   "execution_count": 35,
   "metadata": {},
   "outputs": [],
   "source": [
    "if 'total' not in trigrams:\n",
    "    trigrams['total'] = total\n",
    "with open('trigrams.json', 'w') as f:\n",
    "    json.dump(trigrams, f)"
   ]
  },
  {
   "attachments": {},
   "cell_type": "markdown",
   "metadata": {},
   "source": [
    "## Quadgrams"
   ]
  },
  {
   "cell_type": "code",
   "execution_count": 36,
   "metadata": {},
   "outputs": [
    {
     "name": "stdout",
     "output_type": "stream",
     "text": [
      "TION 13168375\n",
      "NTHE 11234972\n",
      "THER 10218035\n",
      "THAT 8980536\n",
      "OFTH 8132597\n",
      "FTHE 8100836\n",
      "THES 7717675\n",
      "WITH 7627991\n",
      "INTH 7261789\n",
      "ATIO 7104943\n",
      "OTHE 6900574\n",
      "...\n"
     ]
    }
   ],
   "source": [
    "with open('quadgrams.json') as f:\n",
    "    quadgrams = json.load(f)\n",
    "# print first 10 quadgrams\n",
    "for i, (k, v) in enumerate(quadgrams.items()):\n",
    "    if i > 10:\n",
    "        break\n",
    "    print(k, v)\n",
    "print('...')"
   ]
  },
  {
   "cell_type": "code",
   "execution_count": 37,
   "metadata": {},
   "outputs": [
    {
     "name": "stdout",
     "output_type": "stream",
     "text": [
      "total: 4,224,127,912\n"
     ]
    }
   ],
   "source": [
    "# total\n",
    "total = sum(quadgrams.values())\n",
    "print(f'total: {total:,}')"
   ]
  },
  {
   "cell_type": "code",
   "execution_count": 38,
   "metadata": {},
   "outputs": [],
   "source": [
    "if 'total' not in quadgrams:\n",
    "    quadgrams['total'] = total\n",
    "with open('quadgrams.json', 'w') as f:\n",
    "    json.dump(quadgrams, f)"
   ]
  }
 ],
 "metadata": {
  "kernelspec": {
   "display_name": "Python 3",
   "language": "python",
   "name": "python3"
  },
  "language_info": {
   "codemirror_mode": {
    "name": "ipython",
    "version": 3
   },
   "file_extension": ".py",
   "mimetype": "text/x-python",
   "name": "python",
   "nbconvert_exporter": "python",
   "pygments_lexer": "ipython3",
   "version": "3.11.0"
  },
  "orig_nbformat": 4
 },
 "nbformat": 4,
 "nbformat_minor": 2
}
